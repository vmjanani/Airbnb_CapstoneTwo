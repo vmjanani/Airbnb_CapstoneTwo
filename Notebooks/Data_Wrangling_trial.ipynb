{
 "cells": [
  {
   "cell_type": "code",
   "execution_count": 1,
   "metadata": {},
   "outputs": [],
   "source": [
    "#Code task 1#\n",
    "#Import pandas, matplotlib.pyplot, and seaborn in the correct lines below\n",
    "import pandas as pd\n",
    "import numpy as np\n",
    "import matplotlib.pyplot as plt\n",
    "import seaborn as sns\n"
   ]
  },
  {
   "cell_type": "code",
   "execution_count": 2,
   "metadata": {},
   "outputs": [],
   "source": [
    "# the supplied CSV data file is the raw_data directory\n",
    "airbnb_data=pd.read_csv('../Data/airbnb.csv')"
   ]
  },
  {
   "cell_type": "code",
   "execution_count": 3,
   "metadata": {},
   "outputs": [
    {
     "data": {
      "text/html": [
       "<div>\n",
       "<style scoped>\n",
       "    .dataframe tbody tr th:only-of-type {\n",
       "        vertical-align: middle;\n",
       "    }\n",
       "\n",
       "    .dataframe tbody tr th {\n",
       "        vertical-align: top;\n",
       "    }\n",
       "\n",
       "    .dataframe thead th {\n",
       "        text-align: right;\n",
       "    }\n",
       "</style>\n",
       "<table border=\"1\" class=\"dataframe\">\n",
       "  <thead>\n",
       "    <tr style=\"text-align: right;\">\n",
       "      <th></th>\n",
       "      <th>id</th>\n",
       "      <th>listing_url</th>\n",
       "      <th>scrape_id</th>\n",
       "      <th>last_scraped</th>\n",
       "      <th>name</th>\n",
       "      <th>description</th>\n",
       "      <th>neighborhood_overview</th>\n",
       "      <th>picture_url</th>\n",
       "      <th>host_id</th>\n",
       "      <th>host_url</th>\n",
       "      <th>...</th>\n",
       "      <th>review_scores_communication</th>\n",
       "      <th>review_scores_location</th>\n",
       "      <th>review_scores_value</th>\n",
       "      <th>license</th>\n",
       "      <th>instant_bookable</th>\n",
       "      <th>calculated_host_listings_count</th>\n",
       "      <th>calculated_host_listings_count_entire_homes</th>\n",
       "      <th>calculated_host_listings_count_private_rooms</th>\n",
       "      <th>calculated_host_listings_count_shared_rooms</th>\n",
       "      <th>reviews_per_month</th>\n",
       "    </tr>\n",
       "  </thead>\n",
       "  <tbody>\n",
       "    <tr>\n",
       "      <th>0</th>\n",
       "      <td>5570</td>\n",
       "      <td>https://www.airbnb.com/rooms/5570</td>\n",
       "      <td>20211220161302</td>\n",
       "      <td>2021-12-20</td>\n",
       "      <td>Ocean front condo on the sand</td>\n",
       "      <td>Missionbeachretreat.   Great Ocean Front Condo...</td>\n",
       "      <td>While some may compare San Diego’s Mission Bea...</td>\n",
       "      <td>https://a0.muscache.com/pictures/d3342744-140a...</td>\n",
       "      <td>8435</td>\n",
       "      <td>https://www.airbnb.com/users/show/8435</td>\n",
       "      <td>...</td>\n",
       "      <td>NaN</td>\n",
       "      <td>NaN</td>\n",
       "      <td>NaN</td>\n",
       "      <td>NaN</td>\n",
       "      <td>f</td>\n",
       "      <td>3</td>\n",
       "      <td>3</td>\n",
       "      <td>0</td>\n",
       "      <td>0</td>\n",
       "      <td>NaN</td>\n",
       "    </tr>\n",
       "    <tr>\n",
       "      <th>1</th>\n",
       "      <td>29967</td>\n",
       "      <td>https://www.airbnb.com/rooms/29967</td>\n",
       "      <td>20211220161302</td>\n",
       "      <td>2021-12-21</td>\n",
       "      <td>Great home, 10 min walk to Beach</td>\n",
       "      <td>This 2 bedroom, 2 full bathroom home offers al...</td>\n",
       "      <td>NaN</td>\n",
       "      <td>https://a0.muscache.com/pictures/76103867/c9b5...</td>\n",
       "      <td>129123</td>\n",
       "      <td>https://www.airbnb.com/users/show/129123</td>\n",
       "      <td>...</td>\n",
       "      <td>4.93</td>\n",
       "      <td>4.83</td>\n",
       "      <td>4.83</td>\n",
       "      <td>NaN</td>\n",
       "      <td>f</td>\n",
       "      <td>5</td>\n",
       "      <td>5</td>\n",
       "      <td>0</td>\n",
       "      <td>0</td>\n",
       "      <td>0.52</td>\n",
       "    </tr>\n",
       "    <tr>\n",
       "      <th>2</th>\n",
       "      <td>38245</td>\n",
       "      <td>https://www.airbnb.com/rooms/38245</td>\n",
       "      <td>20211220161302</td>\n",
       "      <td>2021-12-21</td>\n",
       "      <td>Point Loma: Den downstairs</td>\n",
       "      <td>Stay in a 1928 Spanish Style home.  Den is dow...</td>\n",
       "      <td>This neighborhood is an expensive, high-end Po...</td>\n",
       "      <td>https://a0.muscache.com/pictures/f3073822-e493...</td>\n",
       "      <td>164137</td>\n",
       "      <td>https://www.airbnb.com/users/show/164137</td>\n",
       "      <td>...</td>\n",
       "      <td>4.79</td>\n",
       "      <td>4.61</td>\n",
       "      <td>4.40</td>\n",
       "      <td>NaN</td>\n",
       "      <td>f</td>\n",
       "      <td>3</td>\n",
       "      <td>0</td>\n",
       "      <td>3</td>\n",
       "      <td>0</td>\n",
       "      <td>1.06</td>\n",
       "    </tr>\n",
       "    <tr>\n",
       "      <th>3</th>\n",
       "      <td>54001</td>\n",
       "      <td>https://www.airbnb.com/rooms/54001</td>\n",
       "      <td>20211220161302</td>\n",
       "      <td>2021-12-21</td>\n",
       "      <td>La Jolla Garden Cottage: Blks to Ocn; 2Bdms, 1...</td>\n",
       "      <td>Quiet, off the beaten path, tranquility abound...</td>\n",
       "      <td>Tranquility, stately trees, meditative, zen-fu...</td>\n",
       "      <td>https://a0.muscache.com/pictures/47035b04-633c...</td>\n",
       "      <td>252692</td>\n",
       "      <td>https://www.airbnb.com/users/show/252692</td>\n",
       "      <td>...</td>\n",
       "      <td>4.97</td>\n",
       "      <td>4.97</td>\n",
       "      <td>4.88</td>\n",
       "      <td>NaN</td>\n",
       "      <td>f</td>\n",
       "      <td>2</td>\n",
       "      <td>1</td>\n",
       "      <td>1</td>\n",
       "      <td>0</td>\n",
       "      <td>2.10</td>\n",
       "    </tr>\n",
       "    <tr>\n",
       "      <th>4</th>\n",
       "      <td>62274</td>\n",
       "      <td>https://www.airbnb.com/rooms/62274</td>\n",
       "      <td>20211220161302</td>\n",
       "      <td>2021-12-21</td>\n",
       "      <td>charming, colorful, close to beach</td>\n",
       "      <td>Modern, cozy, artsy, and european in a lush ga...</td>\n",
       "      <td>We are in walking distance to Starbucks, Trade...</td>\n",
       "      <td>https://a0.muscache.com/pictures/84577734/93ca...</td>\n",
       "      <td>302986</td>\n",
       "      <td>https://www.airbnb.com/users/show/302986</td>\n",
       "      <td>...</td>\n",
       "      <td>4.85</td>\n",
       "      <td>4.86</td>\n",
       "      <td>4.79</td>\n",
       "      <td>NaN</td>\n",
       "      <td>f</td>\n",
       "      <td>2</td>\n",
       "      <td>2</td>\n",
       "      <td>0</td>\n",
       "      <td>0</td>\n",
       "      <td>5.12</td>\n",
       "    </tr>\n",
       "  </tbody>\n",
       "</table>\n",
       "<p>5 rows × 74 columns</p>\n",
       "</div>"
      ],
      "text/plain": [
       "      id                         listing_url       scrape_id last_scraped  \\\n",
       "0   5570   https://www.airbnb.com/rooms/5570  20211220161302   2021-12-20   \n",
       "1  29967  https://www.airbnb.com/rooms/29967  20211220161302   2021-12-21   \n",
       "2  38245  https://www.airbnb.com/rooms/38245  20211220161302   2021-12-21   \n",
       "3  54001  https://www.airbnb.com/rooms/54001  20211220161302   2021-12-21   \n",
       "4  62274  https://www.airbnb.com/rooms/62274  20211220161302   2021-12-21   \n",
       "\n",
       "                                                name  \\\n",
       "0                      Ocean front condo on the sand   \n",
       "1                   Great home, 10 min walk to Beach   \n",
       "2                         Point Loma: Den downstairs   \n",
       "3  La Jolla Garden Cottage: Blks to Ocn; 2Bdms, 1...   \n",
       "4                 charming, colorful, close to beach   \n",
       "\n",
       "                                         description  \\\n",
       "0  Missionbeachretreat.   Great Ocean Front Condo...   \n",
       "1  This 2 bedroom, 2 full bathroom home offers al...   \n",
       "2  Stay in a 1928 Spanish Style home.  Den is dow...   \n",
       "3  Quiet, off the beaten path, tranquility abound...   \n",
       "4  Modern, cozy, artsy, and european in a lush ga...   \n",
       "\n",
       "                               neighborhood_overview  \\\n",
       "0  While some may compare San Diego’s Mission Bea...   \n",
       "1                                                NaN   \n",
       "2  This neighborhood is an expensive, high-end Po...   \n",
       "3  Tranquility, stately trees, meditative, zen-fu...   \n",
       "4  We are in walking distance to Starbucks, Trade...   \n",
       "\n",
       "                                         picture_url  host_id  \\\n",
       "0  https://a0.muscache.com/pictures/d3342744-140a...     8435   \n",
       "1  https://a0.muscache.com/pictures/76103867/c9b5...   129123   \n",
       "2  https://a0.muscache.com/pictures/f3073822-e493...   164137   \n",
       "3  https://a0.muscache.com/pictures/47035b04-633c...   252692   \n",
       "4  https://a0.muscache.com/pictures/84577734/93ca...   302986   \n",
       "\n",
       "                                   host_url  ... review_scores_communication  \\\n",
       "0    https://www.airbnb.com/users/show/8435  ...                         NaN   \n",
       "1  https://www.airbnb.com/users/show/129123  ...                        4.93   \n",
       "2  https://www.airbnb.com/users/show/164137  ...                        4.79   \n",
       "3  https://www.airbnb.com/users/show/252692  ...                        4.97   \n",
       "4  https://www.airbnb.com/users/show/302986  ...                        4.85   \n",
       "\n",
       "  review_scores_location review_scores_value license instant_bookable  \\\n",
       "0                    NaN                 NaN     NaN                f   \n",
       "1                   4.83                4.83     NaN                f   \n",
       "2                   4.61                4.40     NaN                f   \n",
       "3                   4.97                4.88     NaN                f   \n",
       "4                   4.86                4.79     NaN                f   \n",
       "\n",
       "  calculated_host_listings_count calculated_host_listings_count_entire_homes  \\\n",
       "0                              3                                           3   \n",
       "1                              5                                           5   \n",
       "2                              3                                           0   \n",
       "3                              2                                           1   \n",
       "4                              2                                           2   \n",
       "\n",
       "  calculated_host_listings_count_private_rooms  \\\n",
       "0                                            0   \n",
       "1                                            0   \n",
       "2                                            3   \n",
       "3                                            1   \n",
       "4                                            0   \n",
       "\n",
       "  calculated_host_listings_count_shared_rooms reviews_per_month  \n",
       "0                                           0               NaN  \n",
       "1                                           0              0.52  \n",
       "2                                           0              1.06  \n",
       "3                                           0              2.10  \n",
       "4                                           0              5.12  \n",
       "\n",
       "[5 rows x 74 columns]"
      ]
     },
     "execution_count": 3,
     "metadata": {},
     "output_type": "execute_result"
    }
   ],
   "source": [
    "airbnb_data.head()"
   ]
  },
  {
   "cell_type": "code",
   "execution_count": 4,
   "metadata": {},
   "outputs": [
    {
     "data": {
      "text/plain": [
       "Entire residential home             2596\n",
       "Entire rental unit                  2027\n",
       "Entire condominium (condo)          1581\n",
       "Private room in residential home     854\n",
       "Entire guesthouse                    452\n",
       "                                    ... \n",
       "Treehouse                              1\n",
       "Room in hostel                         1\n",
       "Shared room in hotel                   1\n",
       "Shared room in tent                    1\n",
       "Earth house                            1\n",
       "Name: property_type, Length: 63, dtype: int64"
      ]
     },
     "execution_count": 4,
     "metadata": {},
     "output_type": "execute_result"
    }
   ],
   "source": [
    "airbnb_data['property_type'].value_counts()"
   ]
  },
  {
   "cell_type": "code",
   "execution_count": 5,
   "metadata": {},
   "outputs": [
    {
     "data": {
      "text/plain": [
       "Entire home/apt    8424\n",
       "Private room       1795\n",
       "Shared room          73\n",
       "Hotel room            9\n",
       "Name: room_type, dtype: int64"
      ]
     },
     "execution_count": 5,
     "metadata": {},
     "output_type": "execute_result"
    }
   ],
   "source": [
    "airbnb_data['room_type'].value_counts()"
   ]
  },
  {
   "cell_type": "code",
   "execution_count": 6,
   "metadata": {},
   "outputs": [
    {
     "name": "stdout",
     "output_type": "stream",
     "text": [
      "<class 'pandas.core.frame.DataFrame'>\n",
      "RangeIndex: 10301 entries, 0 to 10300\n",
      "Data columns (total 74 columns):\n",
      " #   Column                                        Non-Null Count  Dtype  \n",
      "---  ------                                        --------------  -----  \n",
      " 0   id                                            10301 non-null  int64  \n",
      " 1   listing_url                                   10301 non-null  object \n",
      " 2   scrape_id                                     10301 non-null  int64  \n",
      " 3   last_scraped                                  10301 non-null  object \n",
      " 4   name                                          10301 non-null  object \n",
      " 5   description                                   10154 non-null  object \n",
      " 6   neighborhood_overview                         7223 non-null   object \n",
      " 7   picture_url                                   10301 non-null  object \n",
      " 8   host_id                                       10301 non-null  int64  \n",
      " 9   host_url                                      10301 non-null  object \n",
      " 10  host_name                                     10286 non-null  object \n",
      " 11  host_since                                    10287 non-null  object \n",
      " 12  host_location                                 10273 non-null  object \n",
      " 13  host_about                                    7043 non-null   object \n",
      " 14  host_response_time                            9520 non-null   object \n",
      " 15  host_response_rate                            9520 non-null   object \n",
      " 16  host_acceptance_rate                          9915 non-null   object \n",
      " 17  host_is_superhost                             10287 non-null  object \n",
      " 18  host_thumbnail_url                            10287 non-null  object \n",
      " 19  host_picture_url                              10287 non-null  object \n",
      " 20  host_neighbourhood                            9514 non-null   object \n",
      " 21  host_listings_count                           10287 non-null  float64\n",
      " 22  host_total_listings_count                     10287 non-null  float64\n",
      " 23  host_verifications                            10301 non-null  object \n",
      " 24  host_has_profile_pic                          10287 non-null  object \n",
      " 25  host_identity_verified                        10287 non-null  object \n",
      " 26  neighbourhood                                 7223 non-null   object \n",
      " 27  neighbourhood_cleansed                        10301 non-null  object \n",
      " 28  neighbourhood_group_cleansed                  0 non-null      float64\n",
      " 29  latitude                                      10301 non-null  float64\n",
      " 30  longitude                                     10301 non-null  float64\n",
      " 31  property_type                                 10301 non-null  object \n",
      " 32  room_type                                     10301 non-null  object \n",
      " 33  accommodates                                  10301 non-null  int64  \n",
      " 34  bathrooms                                     0 non-null      float64\n",
      " 35  bathrooms_text                                10294 non-null  object \n",
      " 36  bedrooms                                      9289 non-null   float64\n",
      " 37  beds                                          10166 non-null  float64\n",
      " 38  amenities                                     10301 non-null  object \n",
      " 39  price                                         10301 non-null  object \n",
      " 40  minimum_nights                                10301 non-null  int64  \n",
      " 41  maximum_nights                                10301 non-null  int64  \n",
      " 42  minimum_minimum_nights                        10300 non-null  float64\n",
      " 43  maximum_minimum_nights                        10300 non-null  float64\n",
      " 44  minimum_maximum_nights                        10300 non-null  float64\n",
      " 45  maximum_maximum_nights                        10300 non-null  float64\n",
      " 46  minimum_nights_avg_ntm                        10300 non-null  float64\n",
      " 47  maximum_nights_avg_ntm                        10300 non-null  float64\n",
      " 48  calendar_updated                              0 non-null      float64\n",
      " 49  has_availability                              10301 non-null  object \n",
      " 50  availability_30                               10301 non-null  int64  \n",
      " 51  availability_60                               10301 non-null  int64  \n",
      " 52  availability_90                               10301 non-null  int64  \n",
      " 53  availability_365                              10301 non-null  int64  \n",
      " 54  calendar_last_scraped                         10301 non-null  object \n",
      " 55  number_of_reviews                             10301 non-null  int64  \n",
      " 56  number_of_reviews_ltm                         10301 non-null  int64  \n",
      " 57  number_of_reviews_l30d                        10301 non-null  int64  \n",
      " 58  first_review                                  8789 non-null   object \n",
      " 59  last_review                                   8789 non-null   object \n",
      " 60  review_scores_rating                          8789 non-null   float64\n",
      " 61  review_scores_accuracy                        8768 non-null   float64\n",
      " 62  review_scores_cleanliness                     8768 non-null   float64\n",
      " 63  review_scores_checkin                         8766 non-null   float64\n",
      " 64  review_scores_communication                   8768 non-null   float64\n",
      " 65  review_scores_location                        8766 non-null   float64\n",
      " 66  review_scores_value                           8766 non-null   float64\n",
      " 67  license                                       0 non-null      float64\n",
      " 68  instant_bookable                              10301 non-null  object \n",
      " 69  calculated_host_listings_count                10301 non-null  int64  \n",
      " 70  calculated_host_listings_count_entire_homes   10301 non-null  int64  \n",
      " 71  calculated_host_listings_count_private_rooms  10301 non-null  int64  \n",
      " 72  calculated_host_listings_count_shared_rooms   10301 non-null  int64  \n",
      " 73  reviews_per_month                             8789 non-null   float64\n",
      "dtypes: float64(24), int64(17), object(33)\n",
      "memory usage: 5.8+ MB\n"
     ]
    }
   ],
   "source": [
    "airbnb_data.info()"
   ]
  },
  {
   "cell_type": "code",
   "execution_count": null,
   "metadata": {},
   "outputs": [],
   "source": [
    "#the price is currently as object , needs to convert as numeruic"
   ]
  },
  {
   "cell_type": "code",
   "execution_count": 9,
   "metadata": {},
   "outputs": [
    {
     "data": {
      "text/plain": [
       "0        2050.00\n",
       "1         234.00\n",
       "2          74.00\n",
       "3         258.00\n",
       "4          80.00\n",
       "          ...   \n",
       "10296      53.00\n",
       "10297     260.00\n",
       "10298     259.00\n",
       "10299    1090.00\n",
       "10300     989.00\n",
       "Name: price, Length: 10301, dtype: object"
      ]
     },
     "execution_count": 9,
     "metadata": {},
     "output_type": "execute_result"
    }
   ],
   "source": [
    "#airbnb_data['price'].str.replace('$','').str.replace(',','')\n",
    "airbnb_data['price'].astype(int)"
   ]
  },
  {
   "cell_type": "code",
   "execution_count": 52,
   "metadata": {},
   "outputs": [
    {
     "data": {
      "text/plain": [
       "0       NaN\n",
       "1       NaN\n",
       "2       NaN\n",
       "3       NaN\n",
       "4       NaN\n",
       "         ..\n",
       "10296   NaN\n",
       "10297   NaN\n",
       "10298   NaN\n",
       "10299   NaN\n",
       "10300   NaN\n",
       "Name: bathrooms, Length: 10301, dtype: float64"
      ]
     },
     "execution_count": 52,
     "metadata": {},
     "output_type": "execute_result"
    }
   ],
   "source": [
    "airbnb_data['bathrooms']"
   ]
  },
  {
   "cell_type": "code",
   "execution_count": 14,
   "metadata": {},
   "outputs": [
    {
     "data": {
      "image/png": "[encoded data removed]",
      "text/plain": [
       "<Figure size 432x288 with 1 Axes>"
      ]
     },
     "metadata": {},
     "output_type": "display_data"
    }
   ],
   "source": [
    "sns.set()\n",
    "_=plt.hist(airbnb_data['price'],bins=30)\n",
    "_=plt.xlabel('Price')\n",
    "_=plt.ylabel('Number of houses')\n",
    "plt.show()"
   ]
  },
  {
   "cell_type": "code",
   "execution_count": 21,
   "metadata": {},
   "outputs": [
    {
     "name": "stderr",
     "output_type": "stream",
     "text": [
      "C:\\Users\\janani\\anaconda3\\lib\\site-packages\\seaborn\\categorical.py:1296: UserWarning: 93.7% of the points cannot be placed; you may want to decrease the size of the markers or use stripplot.\n",
      "  warnings.warn(msg, UserWarning)\n",
      "C:\\Users\\janani\\anaconda3\\lib\\site-packages\\seaborn\\categorical.py:1296: UserWarning: 75.2% of the points cannot be placed; you may want to decrease the size of the markers or use stripplot.\n",
      "  warnings.warn(msg, UserWarning)\n"
     ]
    },
    {
     "data": {
      "image/png": "[encoded data removed]",
      "text/plain": [
       "<Figure size 432x288 with 1 Axes>"
      ]
     },
     "metadata": {},
     "output_type": "display_data"
    }
   ],
   "source": [
    "sns.swarmplot(x='room_type',y='price',data=airbnb_data)\n",
    "plt.xlabel('room type')\n",
    "plt.ylabel('count')\n",
    "plt.show()"
   ]
  },
  {
   "cell_type": "code",
   "execution_count": 24,
   "metadata": {},
   "outputs": [],
   "source": [
    "def ecdf(data):\n",
    "    n=len(data)\n",
    "    x=np.sort(data)\n",
    "    y=np.arange(1,n+1)/n\n",
    "    return x,y\n",
    "    "
   ]
  },
  {
   "cell_type": "code",
   "execution_count": 28,
   "metadata": {},
   "outputs": [
    {
     "data": {
      "image/png": "[encoded data removed]",
      "text/plain": [
       "<Figure size 432x288 with 1 Axes>"
      ]
     },
     "metadata": {},
     "output_type": "display_data"
    }
   ],
   "source": [
    "x_price,y_price=ecdf(airbnb_data['price'])\n",
    "plt.plot(x_price,y_price,marker='.',linestyle='None')\n",
    "plt.show()"
   ]
  },
  {
   "cell_type": "code",
   "execution_count": 59,
   "metadata": {},
   "outputs": [
    {
     "name": "stdout",
     "output_type": "stream",
     "text": [
      "$ 289.9831084360742\n"
     ]
    }
   ],
   "source": [
    "mean_price=np.mean(airbnb_data['price'])\n",
    "print('$',mean_price)"
   ]
  },
  {
   "cell_type": "code",
   "execution_count": 60,
   "metadata": {},
   "outputs": [
    {
     "name": "stdout",
     "output_type": "stream",
     "text": [
      "$ 176.0\n"
     ]
    }
   ],
   "source": [
    "meadian_price=np.median(airbnb_data['price'])\n",
    "print('$',meadian_price)"
   ]
  },
  {
   "cell_type": "code",
   "execution_count": 74,
   "metadata": {},
   "outputs": [
    {
     "name": "stdout",
     "output_type": "stream",
     "text": [
      "$ [110. 176. 336.]\n"
     ]
    }
   ],
   "source": [
    "percentile_array=np.array([25,50,75])\n",
    "percentile_price=np.percentile(airbnb_data['price'],percentile_array)\n",
    "print('$',percentile_price)\n",
    "percentile_price_100=percentile_array/100\n",
    "#this means 50% of the price range is $176.The median is the 50th percentile"
   ]
  },
  {
   "cell_type": "code",
   "execution_count": 75,
   "metadata": {
    "scrolled": true
   },
   "outputs": [
    {
     "data": {
      "image/png": "[encoded data removed]",
      "text/plain": [
       "<Figure size 432x288 with 1 Axes>"
      ]
     },
     "metadata": {},
     "output_type": "display_data"
    }
   ],
   "source": [
    "#now we have to plot this percentile markers in the ecdf\n",
    "x_price,y_price=ecdf(airbnb_data['price'])\n",
    "plt.plot(x_price,y_price,marker='.',linestyle='None')\n",
    "plt.plot(percentile_price,percentile_price_100,marker='D',linestyle='None',color='red')\n",
    "plt.show()"
   ]
  },
  {
   "cell_type": "code",
   "execution_count": 67,
   "metadata": {},
   "outputs": [
    {
     "data": {
      "image/png": "[encoded data removed]",
      "text/plain": [
       "<Figure size 432x288 with 1 Axes>"
      ]
     },
     "metadata": {},
     "output_type": "display_data"
    }
   ],
   "source": [
    "sns.boxplot(x='room_type',y='price',data=airbnb_data)\n",
    "plt.xlabel('room type')\n",
    "plt.ylabel('price')\n",
    "plt.show()"
   ]
  },
  {
   "cell_type": "code",
   "execution_count": 76,
   "metadata": {},
   "outputs": [
    {
     "data": {
      "text/plain": [
       "count    10301.000000\n",
       "mean       289.983108\n",
       "std        382.561957\n",
       "min          0.000000\n",
       "25%        110.000000\n",
       "50%        176.000000\n",
       "75%        336.000000\n",
       "max      10000.000000\n",
       "Name: price, dtype: float64"
      ]
     },
     "execution_count": 76,
     "metadata": {},
     "output_type": "execute_result"
    }
   ],
   "source": [
    "airbnb_data['price'].describe()"
   ]
  },
  {
   "cell_type": "code",
   "execution_count": 77,
   "metadata": {},
   "outputs": [
    {
     "data": {
      "text/plain": [
       "289.9831084360742"
      ]
     },
     "execution_count": 77,
     "metadata": {},
     "output_type": "execute_result"
    }
   ],
   "source": [
    "np.mean(airbnb_data['price'])"
   ]
  },
  {
   "cell_type": "code",
   "execution_count": 79,
   "metadata": {},
   "outputs": [
    {
     "data": {
      "text/plain": [
       "176.0"
      ]
     },
     "execution_count": 79,
     "metadata": {},
     "output_type": "execute_result"
    }
   ],
   "source": [
    "np.median(airbnb_data['price'])"
   ]
  },
  {
   "cell_type": "code",
   "execution_count": 80,
   "metadata": {},
   "outputs": [
    {
     "data": {
      "text/plain": [
       "array([110., 176., 336.])"
      ]
     },
     "execution_count": 80,
     "metadata": {},
     "output_type": "execute_result"
    }
   ],
   "source": [
    "np.percentile(airbnb_data['price'],percentile_array)"
   ]
  },
  {
   "cell_type": "code",
   "execution_count": 88,
   "metadata": {},
   "outputs": [
    {
     "data": {
      "text/plain": [
       "array([1760.,  -56., -216., ...,  -31.,  800.,  699.])"
      ]
     },
     "execution_count": 88,
     "metadata": {},
     "output_type": "execute_result"
    }
   ],
   "source": [
    "#distance from the mean , thisn will be an array\n",
    "diff=np.array(airbnb_data['price']-np.round(np.mean(airbnb_data['price'])))\n",
    "diff"
   ]
  },
  {
   "cell_type": "code",
   "execution_count": 89,
   "metadata": {},
   "outputs": [
    {
     "data": {
      "text/plain": [
       "146339.44335501408"
      ]
     },
     "execution_count": 89,
     "metadata": {},
     "output_type": "execute_result"
    }
   ],
   "source": [
    "#square\n",
    "diff_square=diff**2\n",
    "#variance is the average of this \n",
    "variance=np.mean(diff_square)\n",
    "variance"
   ]
  },
  {
   "cell_type": "code",
   "execution_count": 90,
   "metadata": {},
   "outputs": [
    {
     "data": {
      "text/plain": [
       "146339.44306968755"
      ]
     },
     "execution_count": 90,
     "metadata": {},
     "output_type": "execute_result"
    }
   ],
   "source": [
    "#variance is the avg of square of distance from the mean \n",
    "np.var(airbnb_data['price'])"
   ]
  },
  {
   "cell_type": "code",
   "execution_count": 91,
   "metadata": {},
   "outputs": [
    {
     "data": {
      "text/plain": [
       "382.5433871728638"
      ]
     },
     "execution_count": 91,
     "metadata": {},
     "output_type": "execute_result"
    }
   ],
   "source": [
    "#standard deviation--squareroot of variance\n",
    "np.std(airbnb_data['price'])"
   ]
  },
  {
   "cell_type": "code",
   "execution_count": 93,
   "metadata": {},
   "outputs": [
    {
     "data": {
      "image/png": "[encoded data removed]",
      "text/plain": [
       "<Figure size 432x288 with 1 Axes>"
      ]
     },
     "metadata": {},
     "output_type": "display_data"
    }
   ],
   "source": [
    "sns.scatterplot(x='price',y='minimum_nights',data=airbnb_data)\n",
    "plt.show()"
   ]
  },
  {
   "cell_type": "code",
   "execution_count": 105,
   "metadata": {},
   "outputs": [
    {
     "data": {
      "image/png": "[encoded data removed]",
      "text/plain": [
       "<Figure size 432x288 with 1 Axes>"
      ]
     },
     "metadata": {},
     "output_type": "display_data"
    }
   ],
   "source": [
    "sns.scatterplot(x='price',y='maximum_nights',data=airbnb_data)\n",
    "plt.show()"
   ]
  },
  {
   "cell_type": "code",
   "execution_count": 94,
   "metadata": {},
   "outputs": [
    {
     "data": {
      "text/plain": [
       "array([1760.,  -56., -216., ...,  -31.,  800.,  699.])"
      ]
     },
     "execution_count": 94,
     "metadata": {},
     "output_type": "execute_result"
    }
   ],
   "source": [
    "diff_in_price=np.array(airbnb_data['price']-np.round(np.mean(airbnb_data['price'])))\n",
    "diff_in_price"
   ]
  },
  {
   "cell_type": "code",
   "execution_count": 96,
   "metadata": {},
   "outputs": [
    {
     "data": {
      "text/plain": [
       "array([-4., -3., -6., ..., -6., -5., -5.])"
      ]
     },
     "execution_count": 96,
     "metadata": {},
     "output_type": "execute_result"
    }
   ],
   "source": [
    "diff_in_minimum_nights=np.array(airbnb_data['minimum_nights']-np.round(np.mean(airbnb_data['minimum_nights'])))\n",
    "diff_in_minimum_nights"
   ]
  },
  {
   "cell_type": "code",
   "execution_count": 98,
   "metadata": {},
   "outputs": [
    {
     "data": {
      "text/plain": [
       "-209.64721871662945"
      ]
     },
     "execution_count": 98,
     "metadata": {},
     "output_type": "execute_result"
    }
   ],
   "source": [
    "covariance=np.mean(diff_in_price*diff_in_minimum_nights)\n",
    "covariance"
   ]
  },
  {
   "cell_type": "code",
   "execution_count": 100,
   "metadata": {},
   "outputs": [
    {
     "data": {
      "text/plain": [
       "-0.02490120317736743"
      ]
     },
     "execution_count": 100,
     "metadata": {},
     "output_type": "execute_result"
    }
   ],
   "source": [
    "pearson=covariance/(np.std(airbnb_data['price'])*np.std(airbnb_data['minimum_nights']))\n",
    "pearson"
   ]
  },
  {
   "cell_type": "code",
   "execution_count": 108,
   "metadata": {},
   "outputs": [
    {
     "data": {
      "text/plain": [
       "array([[146353.65078261,   -209.67441964],\n",
       "       [  -209.67441964,    484.41581268]])"
      ]
     },
     "execution_count": 108,
     "metadata": {},
     "output_type": "execute_result"
    }
   ],
   "source": [
    "covariance_np=np.cov(airbnb_data['price'],airbnb_data['minimum_nights'])\n",
    "covariance_np"
   ]
  },
  {
   "cell_type": "code",
   "execution_count": 112,
   "metadata": {},
   "outputs": [
    {
     "data": {
      "text/plain": [
       "-0.024902016341437235"
      ]
     },
     "execution_count": 112,
     "metadata": {},
     "output_type": "execute_result"
    }
   ],
   "source": [
    "pearson_coeff=np.corrcoef(airbnb_data['price'],airbnb_data['minimum_nights'])\n",
    "pearson_coeff[0,1]"
   ]
  },
  {
   "cell_type": "code",
   "execution_count": 101,
   "metadata": {},
   "outputs": [
    {
     "data": {
      "text/plain": [
       "array([-194., -194., -538., ...,  566., -194., -194.])"
      ]
     },
     "execution_count": 101,
     "metadata": {},
     "output_type": "execute_result"
    }
   ],
   "source": [
    "diff_in_minimum_nights=np.array(airbnb_data['maximum_nights']-np.round(np.mean(airbnb_data['maximum_nights'])))\n",
    "diff_in_minimum_nights"
   ]
  },
  {
   "cell_type": "code",
   "execution_count": 102,
   "metadata": {},
   "outputs": [
    {
     "data": {
      "text/plain": [
       "2069.9382584215123"
      ]
     },
     "execution_count": 102,
     "metadata": {},
     "output_type": "execute_result"
    }
   ],
   "source": [
    "covariance=np.mean(diff_in_price*diff_in_minimum_nights)\n",
    "covariance"
   ]
  },
  {
   "cell_type": "code",
   "execution_count": 107,
   "metadata": {},
   "outputs": [
    {
     "data": {
      "text/plain": [
       "array([[146353.65078261,   2070.14553222],\n",
       "       [  2070.14553222, 248467.96080618]])"
      ]
     },
     "execution_count": 107,
     "metadata": {},
     "output_type": "execute_result"
    }
   ],
   "source": [
    "np.cov(airbnb_data['price'],airbnb_data['maximum_nights'])"
   ]
  },
  {
   "cell_type": "code",
   "execution_count": 104,
   "metadata": {},
   "outputs": [
    {
     "data": {
      "text/plain": [
       "0.0108558185594556"
      ]
     },
     "execution_count": 104,
     "metadata": {},
     "output_type": "execute_result"
    }
   ],
   "source": [
    "pearson=covariance/(np.std(airbnb_data['price'])*np.std(airbnb_data['maximum_nights']))\n",
    "pearson"
   ]
  },
  {
   "cell_type": "code",
   "execution_count": null,
   "metadata": {},
   "outputs": [],
   "source": []
  }
 ],
 "metadata": {
  "kernelspec": {
   "display_name": "Python 3",
   "language": "python",
   "name": "python3"
  },
  "language_info": {
   "codemirror_mode": {
    "name": "ipython",
    "version": 3
   },
   "file_extension": ".py",
   "mimetype": "text/x-python",
   "name": "python",
   "nbconvert_exporter": "python",
   "pygments_lexer": "ipython3",
   "version": "3.8.5"
  }
 },
 "nbformat": 4,
 "nbformat_minor": 4
}
